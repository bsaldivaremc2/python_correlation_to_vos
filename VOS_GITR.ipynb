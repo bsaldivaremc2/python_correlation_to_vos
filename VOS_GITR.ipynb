{
 "cells": [
  {
   "cell_type": "code",
   "execution_count": 61,
   "metadata": {
    "collapsed": false
   },
   "outputs": [],
   "source": [
    "import pandas as pd\n",
    "from sklearn import decomposition as pcad\n",
    "from sklearn.preprocessing import normalize as norm\n",
    "import matplotlib.pyplot as plt\n",
    "import numpy as np"
   ]
  },
  {
   "cell_type": "markdown",
   "metadata": {},
   "source": [
    "### Download the data from http://knoema.es/atlas/sources/WEF"
   ]
  },
  {
   "cell_type": "markdown",
   "metadata": {},
   "source": [
    "Read the data and put it in a dataframe"
   ]
  },
  {
   "cell_type": "code",
   "execution_count": 3,
   "metadata": {
    "collapsed": true
   },
   "outputs": [],
   "source": [
    "gitr_data=pd.read_csv(\"ObservationData_nkzdwfb.csv\",sep=\",\")"
   ]
  },
  {
   "cell_type": "markdown",
   "metadata": {},
   "source": [
    "See which columns are available"
   ]
  },
  {
   "cell_type": "code",
   "execution_count": 4,
   "metadata": {
    "collapsed": false
   },
   "outputs": [
    {
     "data": {
      "text/plain": [
       "Index(['country', 'indicator', 'measure', 'Unit', 'Date', 'Value'], dtype='object')"
      ]
     },
     "execution_count": 4,
     "metadata": {},
     "output_type": "execute_result"
    }
   ],
   "source": [
    "gitr_data.columns"
   ]
  },
  {
   "cell_type": "markdown",
   "metadata": {},
   "source": [
    "See which countries are available"
   ]
  },
  {
   "cell_type": "code",
   "execution_count": 11,
   "metadata": {
    "collapsed": false
   },
   "outputs": [
    {
     "data": {
      "text/plain": [
       "array(['Australia', 'Austria', 'Belgium', 'Canada', 'Cyprus',\n",
       "       'Czech Republic', 'Denmark', 'Estonia', 'Finland', 'France',\n",
       "       'Germany', 'Greece', 'Hong Kong SAR', 'Iceland', 'Ireland',\n",
       "       'Israel', 'Italy', 'Japan', 'Korea, Rep.', 'Latvia', 'Luxembourg',\n",
       "       'Malta', 'Netherlands', 'New Zealand', 'Norway', 'Portugal',\n",
       "       'Singapore', 'Slovak Republic', 'Slovenia', 'Spain', 'Sweden',\n",
       "       'Switzerland', 'Taiwan, China', 'United Kingdom', 'United States',\n",
       "       'Armenia', 'Azerbaijan', 'Georgia', 'Kazakhstan', 'Kyrgyz Republic',\n",
       "       'Moldova', 'Russian Federation', 'Tajikistan', 'Ukraine',\n",
       "       'Bangladesh', 'Bhutan', 'Cambodia', 'China', 'India', 'Indonesia',\n",
       "       'Lao PDR', 'Malaysia', 'Mongolia', 'Myanmar', 'Nepal',\n",
       "       'Philippines', 'Sri Lanka', 'Thailand', 'Vietnam', 'Albania',\n",
       "       'Bosnia and Herzegovina', 'Bulgaria', 'Croatia', 'Hungary',\n",
       "       'Lithuania', 'Macedonia, FYR', 'Montenegro', 'Poland', 'Romania',\n",
       "       'Serbia', 'Turkey', 'Argentina', 'Bolivia', 'Brazil', 'Chile',\n",
       "       'Colombia', 'Costa Rica', 'Dominican Republic', 'Ecuador',\n",
       "       'El Salvador', 'Guatemala', 'Guyana', 'Haiti', 'Honduras',\n",
       "       'Jamaica', 'Mexico', 'Nicaragua', 'Panama', 'Paraguay', 'Peru',\n",
       "       'Trinidad and Tobago', 'Uruguay', 'Venezuela', 'Algeria', 'Bahrain',\n",
       "       'Egypt', 'Iran, Islamic Rep.', 'Jordan', 'Kuwait', 'Lebanon',\n",
       "       'Mauritania', 'Morocco', 'Oman', 'Pakistan', 'Qatar',\n",
       "       'Saudi Arabia', 'Tunisia', 'United Arab Emirates', 'Benin',\n",
       "       'Botswana', 'Burundi', 'Cameroon', 'Cape Verde', 'Chad',\n",
       "       \"Côte d'Ivoire\", 'Ethiopia', 'Gabon', 'Gambia, The', 'Ghana',\n",
       "       'Guinea', 'Kenya', 'Lesotho', 'Liberia', 'Madagascar', 'Malawi',\n",
       "       'Mali', 'Mauritius', 'Mozambique', 'Namibia', 'Nigeria', 'Rwanda',\n",
       "       'Senegal', 'Seychelles', 'South Africa', 'Swaziland', 'Tanzania',\n",
       "       'Uganda', 'Zambia', 'Zimbabwe'], dtype=object)"
      ]
     },
     "execution_count": 11,
     "metadata": {},
     "output_type": "execute_result"
    }
   ],
   "source": [
    "countries=gitr_data['country'].unique()\n",
    "countries"
   ]
  },
  {
   "cell_type": "markdown",
   "metadata": {},
   "source": [
    "Looking which fields are important for features, values and identification"
   ]
  },
  {
   "cell_type": "code",
   "execution_count": 97,
   "metadata": {
    "collapsed": false
   },
   "outputs": [
    {
     "data": {
      "text/html": [
       "<div>\n",
       "<table border=\"1\" class=\"dataframe\">\n",
       "  <thead>\n",
       "    <tr style=\"text-align: right;\">\n",
       "      <th></th>\n",
       "      <th>country</th>\n",
       "      <th>indicator</th>\n",
       "      <th>Value</th>\n",
       "    </tr>\n",
       "  </thead>\n",
       "  <tbody>\n",
       "    <tr>\n",
       "      <th>9146</th>\n",
       "      <td>Uganda</td>\n",
       "      <td>Networked Readiness Index</td>\n",
       "      <td>3.1</td>\n",
       "    </tr>\n",
       "    <tr>\n",
       "      <th>9147</th>\n",
       "      <td>Uganda</td>\n",
       "      <td>Environment subindex</td>\n",
       "      <td>3.7</td>\n",
       "    </tr>\n",
       "    <tr>\n",
       "      <th>9148</th>\n",
       "      <td>Uganda</td>\n",
       "      <td>Political and regulatory environment</td>\n",
       "      <td>3.7</td>\n",
       "    </tr>\n",
       "  </tbody>\n",
       "</table>\n",
       "</div>"
      ],
      "text/plain": [
       "     country                             indicator  Value\n",
       "9146  Uganda             Networked Readiness Index    3.1\n",
       "9147  Uganda                  Environment subindex    3.7\n",
       "9148  Uganda  Political and regulatory environment    3.7"
      ]
     },
     "execution_count": 97,
     "metadata": {},
     "output_type": "execute_result"
    }
   ],
   "source": [
    "gitr_data[gitr_data['country']=='Uganda'][['country','indicator','Value']].head(3)"
   ]
  },
  {
   "cell_type": "markdown",
   "metadata": {},
   "source": [
    "Test modifying a country data so it behaves as a set of features for an observation"
   ]
  },
  {
   "cell_type": "code",
   "execution_count": 17,
   "metadata": {
    "collapsed": false
   },
   "outputs": [
    {
     "data": {
      "text/html": [
       "<div>\n",
       "<table border=\"1\" class=\"dataframe\">\n",
       "  <thead>\n",
       "    <tr style=\"text-align: right;\">\n",
       "      <th>indicator</th>\n",
       "      <th>Networked Readiness Index</th>\n",
       "      <th>Environment subindex</th>\n",
       "      <th>Political and regulatory environment</th>\n",
       "      <th>Effectiveness of law-making bodies, 1-7 (best)</th>\n",
       "      <th>Laws relating to ICTs, 1-7 (best)</th>\n",
       "      <th>Judicial independence, 1-7 (best)</th>\n",
       "      <th>Efficiency of legal system in settling disputes, 1-7 (best)</th>\n",
       "      <th>Efficiency of legal system in challenging regs, 1-7 (best)</th>\n",
       "      <th>Intellectual property protection, 1-7 (best)</th>\n",
       "      <th>No. procedures to enforce a contract</th>\n",
       "      <th>...</th>\n",
       "      <th>Economic impacts</th>\n",
       "      <th>Impact of ICTs on new services &amp; products, 1-7 (best)</th>\n",
       "      <th>ICT PCT patents, applications/million pop.</th>\n",
       "      <th>Impact of ICTs on new organizational models, 1-7 (best)</th>\n",
       "      <th>Knowledge-intensive jobs, % workforce</th>\n",
       "      <th>Social impacts</th>\n",
       "      <th>Impact of ICTs on access to basic services, 1-7 (best)</th>\n",
       "      <th>Internet access in schools, 1-7 (best)</th>\n",
       "      <th>ICT use &amp; gov’t efficiency, 1-7 (best)</th>\n",
       "      <th>E-Participation Index, 0–1 (best)</th>\n",
       "    </tr>\n",
       "  </thead>\n",
       "  <tbody>\n",
       "    <tr>\n",
       "      <th>Uganda</th>\n",
       "      <td>3.1</td>\n",
       "      <td>3.7</td>\n",
       "      <td>3.7</td>\n",
       "      <td>4.0</td>\n",
       "      <td>3.4</td>\n",
       "      <td>3.4</td>\n",
       "      <td>3.8</td>\n",
       "      <td>3.6</td>\n",
       "      <td>3.3</td>\n",
       "      <td>38.0</td>\n",
       "      <td>...</td>\n",
       "      <td>2.6</td>\n",
       "      <td>4.3</td>\n",
       "      <td>0.0</td>\n",
       "      <td>3.7</td>\n",
       "      <td>4.1</td>\n",
       "      <td>3.1</td>\n",
       "      <td>3.5</td>\n",
       "      <td>3.2</td>\n",
       "      <td>4.0</td>\n",
       "      <td>0.14</td>\n",
       "    </tr>\n",
       "  </tbody>\n",
       "</table>\n",
       "<p>1 rows × 67 columns</p>\n",
       "</div>"
      ],
      "text/plain": [
       "indicator  Networked Readiness Index  Environment subindex  \\\n",
       "Uganda                           3.1                   3.7   \n",
       "\n",
       "indicator  Political and regulatory environment  \\\n",
       "Uganda                                      3.7   \n",
       "\n",
       "indicator  Effectiveness of law-making bodies, 1-7 (best)  \\\n",
       "Uganda                                                4.0   \n",
       "\n",
       "indicator  Laws relating to ICTs, 1-7 (best)  \\\n",
       "Uganda                                   3.4   \n",
       "\n",
       "indicator  Judicial independence, 1-7 (best)  \\\n",
       "Uganda                                   3.4   \n",
       "\n",
       "indicator  Efficiency of legal system in settling disputes, 1-7 (best)  \\\n",
       "Uganda                                                   3.8             \n",
       "\n",
       "indicator  Efficiency of legal system in challenging regs, 1-7 (best)  \\\n",
       "Uganda                                                   3.6            \n",
       "\n",
       "indicator  Intellectual property protection, 1-7 (best)  \\\n",
       "Uganda                                              3.3   \n",
       "\n",
       "indicator  No. procedures to enforce a contract  \\\n",
       "Uganda                                     38.0   \n",
       "\n",
       "indicator                ...                  Economic impacts  \\\n",
       "Uganda                   ...                               2.6   \n",
       "\n",
       "indicator  Impact of ICTs on new services & products, 1-7 (best)  \\\n",
       "Uganda                                                   4.3       \n",
       "\n",
       "indicator  ICT PCT patents, applications/million pop.  \\\n",
       "Uganda                                            0.0   \n",
       "\n",
       "indicator  Impact of ICTs on new organizational models, 1-7 (best)  \\\n",
       "Uganda                                                   3.7         \n",
       "\n",
       "indicator  Knowledge-intensive jobs, % workforce  Social impacts  \\\n",
       "Uganda                                       4.1             3.1   \n",
       "\n",
       "indicator  Impact of ICTs on access to basic services, 1-7 (best)  \\\n",
       "Uganda                                                   3.5        \n",
       "\n",
       "indicator  Internet access in schools, 1-7 (best)  \\\n",
       "Uganda                                        3.2   \n",
       "\n",
       "indicator  ICT use & gov’t efficiency, 1-7 (best)  \\\n",
       "Uganda                                        4.0   \n",
       "\n",
       "indicator  E-Participation Index, 0–1 (best)  \n",
       "Uganda                                  0.14  \n",
       "\n",
       "[1 rows x 67 columns]"
      ]
     },
     "execution_count": 17,
     "metadata": {},
     "output_type": "execute_result"
    }
   ],
   "source": [
    "gitr_data[gitr_data['country']=='Uganda'][['indicator','Value']].set_index('indicator').rename(columns={'Value':'Uganda'}).transpose()"
   ]
  },
  {
   "cell_type": "markdown",
   "metadata": {},
   "source": [
    "Generalizing the previous step to all the data"
   ]
  },
  {
   "cell_type": "code",
   "execution_count": 18,
   "metadata": {
    "collapsed": true
   },
   "outputs": [],
   "source": [
    "dfA=list()\n",
    "for country in countries:\n",
    "    df=gitr_data[gitr_data['country']==country][['indicator','Value']].set_index('indicator').rename(columns={'Value':country}).transpose()\n",
    "    dfA.append(df)\n",
    "gitr_featured=pd.concat(dfA)"
   ]
  },
  {
   "cell_type": "markdown",
   "metadata": {},
   "source": [
    "Looking the results"
   ]
  },
  {
   "cell_type": "code",
   "execution_count": 96,
   "metadata": {
    "collapsed": false
   },
   "outputs": [
    {
     "data": {
      "text/html": [
       "<div>\n",
       "<table border=\"1\" class=\"dataframe\">\n",
       "  <thead>\n",
       "    <tr style=\"text-align: right;\">\n",
       "      <th></th>\n",
       "      <th>Availability of latest technologies, 1-7 (best)</th>\n",
       "      <th>Business and innovation environment</th>\n",
       "      <th>Business usage</th>\n",
       "      <th>Business-to-business Internet use, 1-7 (best)</th>\n",
       "      <th>Business-to-consumer Internet use, 1-7 (best)</th>\n",
       "      <th>Capacity for innovation, 1-7 (best)</th>\n",
       "      <th>Economic impacts</th>\n",
       "      <th>Effectiveness of law-making bodies, 1-7 (best)</th>\n",
       "      <th>Efficiency of legal system in challenging regs, 1-7 (best)</th>\n",
       "      <th>Efficiency of legal system in settling disputes, 1-7 (best)</th>\n",
       "      <th>...</th>\n",
       "      <th>Quality of management schools, 1-7 (best)</th>\n",
       "      <th>Quality of math &amp; science education, 1-7 (best)</th>\n",
       "      <th>Readiness subindex</th>\n",
       "      <th>Secure Internet servers/million pop.</th>\n",
       "      <th>Skills</th>\n",
       "      <th>Social impacts</th>\n",
       "      <th>Total tax rate, % profits</th>\n",
       "      <th>Usage subindex</th>\n",
       "      <th>Use of virtual social networks, 1-7 (best)</th>\n",
       "      <th>Venture capital availability, 1-7 (best)</th>\n",
       "    </tr>\n",
       "  </thead>\n",
       "  <tbody>\n",
       "    <tr>\n",
       "      <th>Australia</th>\n",
       "      <td>5.9</td>\n",
       "      <td>5.1</td>\n",
       "      <td>4.8</td>\n",
       "      <td>5.5</td>\n",
       "      <td>5.5</td>\n",
       "      <td>4.8</td>\n",
       "      <td>4.7</td>\n",
       "      <td>4.8</td>\n",
       "      <td>4.7</td>\n",
       "      <td>4.9</td>\n",
       "      <td>...</td>\n",
       "      <td>5.3</td>\n",
       "      <td>4.8</td>\n",
       "      <td>6.2</td>\n",
       "      <td>1348.6</td>\n",
       "      <td>6.0</td>\n",
       "      <td>5.7</td>\n",
       "      <td>47.6</td>\n",
       "      <td>5.4</td>\n",
       "      <td>6.0</td>\n",
       "      <td>3.1</td>\n",
       "    </tr>\n",
       "    <tr>\n",
       "      <th>Austria</th>\n",
       "      <td>6.1</td>\n",
       "      <td>4.7</td>\n",
       "      <td>5.6</td>\n",
       "      <td>5.7</td>\n",
       "      <td>5.4</td>\n",
       "      <td>5.4</td>\n",
       "      <td>4.9</td>\n",
       "      <td>4.2</td>\n",
       "      <td>4.7</td>\n",
       "      <td>5.0</td>\n",
       "      <td>...</td>\n",
       "      <td>4.9</td>\n",
       "      <td>4.6</td>\n",
       "      <td>6.3</td>\n",
       "      <td>1267.7</td>\n",
       "      <td>5.7</td>\n",
       "      <td>5.2</td>\n",
       "      <td>51.7</td>\n",
       "      <td>5.4</td>\n",
       "      <td>5.8</td>\n",
       "      <td>2.9</td>\n",
       "    </tr>\n",
       "    <tr>\n",
       "      <th>Belgium</th>\n",
       "      <td>6.2</td>\n",
       "      <td>5.1</td>\n",
       "      <td>5.2</td>\n",
       "      <td>5.7</td>\n",
       "      <td>5.3</td>\n",
       "      <td>5.3</td>\n",
       "      <td>4.9</td>\n",
       "      <td>4.3</td>\n",
       "      <td>4.7</td>\n",
       "      <td>4.5</td>\n",
       "      <td>...</td>\n",
       "      <td>6.0</td>\n",
       "      <td>6.0</td>\n",
       "      <td>6.1</td>\n",
       "      <td>854.2</td>\n",
       "      <td>6.4</td>\n",
       "      <td>5.1</td>\n",
       "      <td>58.4</td>\n",
       "      <td>5.2</td>\n",
       "      <td>6.1</td>\n",
       "      <td>3.5</td>\n",
       "    </tr>\n",
       "  </tbody>\n",
       "</table>\n",
       "<p>3 rows × 54 columns</p>\n",
       "</div>"
      ],
      "text/plain": [
       "           Availability of latest technologies, 1-7 (best)  \\\n",
       "Australia                                              5.9   \n",
       "Austria                                                6.1   \n",
       "Belgium                                                6.2   \n",
       "\n",
       "           Business and innovation environment  Business usage  \\\n",
       "Australia                                  5.1             4.8   \n",
       "Austria                                    4.7             5.6   \n",
       "Belgium                                    5.1             5.2   \n",
       "\n",
       "           Business-to-business Internet use, 1-7 (best)  \\\n",
       "Australia                                            5.5   \n",
       "Austria                                              5.7   \n",
       "Belgium                                              5.7   \n",
       "\n",
       "           Business-to-consumer Internet use, 1-7 (best)  \\\n",
       "Australia                                            5.5   \n",
       "Austria                                              5.4   \n",
       "Belgium                                              5.3   \n",
       "\n",
       "           Capacity for innovation, 1-7 (best)  Economic impacts  \\\n",
       "Australia                                  4.8               4.7   \n",
       "Austria                                    5.4               4.9   \n",
       "Belgium                                    5.3               4.9   \n",
       "\n",
       "           Effectiveness of law-making bodies, 1-7 (best)  \\\n",
       "Australia                                             4.8   \n",
       "Austria                                               4.2   \n",
       "Belgium                                               4.3   \n",
       "\n",
       "           Efficiency of legal system in challenging regs, 1-7 (best)  \\\n",
       "Australia                                                4.7            \n",
       "Austria                                                  4.7            \n",
       "Belgium                                                  4.7            \n",
       "\n",
       "           Efficiency of legal system in settling disputes, 1-7 (best)  \\\n",
       "Australia                                                4.9             \n",
       "Austria                                                  5.0             \n",
       "Belgium                                                  4.5             \n",
       "\n",
       "                             ...                     \\\n",
       "Australia                    ...                      \n",
       "Austria                      ...                      \n",
       "Belgium                      ...                      \n",
       "\n",
       "           Quality of management schools, 1-7 (best)  \\\n",
       "Australia                                        5.3   \n",
       "Austria                                          4.9   \n",
       "Belgium                                          6.0   \n",
       "\n",
       "           Quality of math & science education, 1-7 (best)  \\\n",
       "Australia                                              4.8   \n",
       "Austria                                                4.6   \n",
       "Belgium                                                6.0   \n",
       "\n",
       "           Readiness subindex  Secure Internet servers/million pop.  Skills  \\\n",
       "Australia                 6.2                                1348.6     6.0   \n",
       "Austria                   6.3                                1267.7     5.7   \n",
       "Belgium                   6.1                                 854.2     6.4   \n",
       "\n",
       "           Social impacts  Total tax rate, % profits  Usage subindex  \\\n",
       "Australia             5.7                       47.6             5.4   \n",
       "Austria               5.2                       51.7             5.4   \n",
       "Belgium               5.1                       58.4             5.2   \n",
       "\n",
       "           Use of virtual social networks, 1-7 (best)  \\\n",
       "Australia                                         6.0   \n",
       "Austria                                           5.8   \n",
       "Belgium                                           6.1   \n",
       "\n",
       "           Venture capital availability, 1-7 (best)  \n",
       "Australia                                       3.1  \n",
       "Austria                                         2.9  \n",
       "Belgium                                         3.5  \n",
       "\n",
       "[3 rows x 54 columns]"
      ]
     },
     "execution_count": 96,
     "metadata": {},
     "output_type": "execute_result"
    }
   ],
   "source": [
    "gitr_featured.head(3)"
   ]
  },
  {
   "cell_type": "markdown",
   "metadata": {},
   "source": [
    "As we have seen, there are some NaN values. For this particular case, they won't help to identify features. Therefore we drop them out"
   ]
  },
  {
   "cell_type": "code",
   "execution_count": 95,
   "metadata": {
    "collapsed": false
   },
   "outputs": [
    {
     "data": {
      "text/html": [
       "<div>\n",
       "<table border=\"1\" class=\"dataframe\">\n",
       "  <thead>\n",
       "    <tr style=\"text-align: right;\">\n",
       "      <th></th>\n",
       "      <th>Availability of latest technologies, 1-7 (best)</th>\n",
       "      <th>Business and innovation environment</th>\n",
       "      <th>Business usage</th>\n",
       "      <th>Business-to-business Internet use, 1-7 (best)</th>\n",
       "      <th>Business-to-consumer Internet use, 1-7 (best)</th>\n",
       "      <th>Capacity for innovation, 1-7 (best)</th>\n",
       "      <th>Economic impacts</th>\n",
       "      <th>Effectiveness of law-making bodies, 1-7 (best)</th>\n",
       "      <th>Efficiency of legal system in challenging regs, 1-7 (best)</th>\n",
       "      <th>Efficiency of legal system in settling disputes, 1-7 (best)</th>\n",
       "      <th>...</th>\n",
       "      <th>Quality of management schools, 1-7 (best)</th>\n",
       "      <th>Quality of math &amp; science education, 1-7 (best)</th>\n",
       "      <th>Readiness subindex</th>\n",
       "      <th>Secure Internet servers/million pop.</th>\n",
       "      <th>Skills</th>\n",
       "      <th>Social impacts</th>\n",
       "      <th>Total tax rate, % profits</th>\n",
       "      <th>Usage subindex</th>\n",
       "      <th>Use of virtual social networks, 1-7 (best)</th>\n",
       "      <th>Venture capital availability, 1-7 (best)</th>\n",
       "    </tr>\n",
       "  </thead>\n",
       "  <tbody>\n",
       "    <tr>\n",
       "      <th>Australia</th>\n",
       "      <td>5.9</td>\n",
       "      <td>5.1</td>\n",
       "      <td>4.8</td>\n",
       "      <td>5.5</td>\n",
       "      <td>5.5</td>\n",
       "      <td>4.8</td>\n",
       "      <td>4.7</td>\n",
       "      <td>4.8</td>\n",
       "      <td>4.7</td>\n",
       "      <td>4.9</td>\n",
       "      <td>...</td>\n",
       "      <td>5.3</td>\n",
       "      <td>4.8</td>\n",
       "      <td>6.2</td>\n",
       "      <td>1348.6</td>\n",
       "      <td>6.0</td>\n",
       "      <td>5.7</td>\n",
       "      <td>47.6</td>\n",
       "      <td>5.4</td>\n",
       "      <td>6.0</td>\n",
       "      <td>3.1</td>\n",
       "    </tr>\n",
       "    <tr>\n",
       "      <th>Austria</th>\n",
       "      <td>6.1</td>\n",
       "      <td>4.7</td>\n",
       "      <td>5.6</td>\n",
       "      <td>5.7</td>\n",
       "      <td>5.4</td>\n",
       "      <td>5.4</td>\n",
       "      <td>4.9</td>\n",
       "      <td>4.2</td>\n",
       "      <td>4.7</td>\n",
       "      <td>5.0</td>\n",
       "      <td>...</td>\n",
       "      <td>4.9</td>\n",
       "      <td>4.6</td>\n",
       "      <td>6.3</td>\n",
       "      <td>1267.7</td>\n",
       "      <td>5.7</td>\n",
       "      <td>5.2</td>\n",
       "      <td>51.7</td>\n",
       "      <td>5.4</td>\n",
       "      <td>5.8</td>\n",
       "      <td>2.9</td>\n",
       "    </tr>\n",
       "    <tr>\n",
       "      <th>Belgium</th>\n",
       "      <td>6.2</td>\n",
       "      <td>5.1</td>\n",
       "      <td>5.2</td>\n",
       "      <td>5.7</td>\n",
       "      <td>5.3</td>\n",
       "      <td>5.3</td>\n",
       "      <td>4.9</td>\n",
       "      <td>4.3</td>\n",
       "      <td>4.7</td>\n",
       "      <td>4.5</td>\n",
       "      <td>...</td>\n",
       "      <td>6.0</td>\n",
       "      <td>6.0</td>\n",
       "      <td>6.1</td>\n",
       "      <td>854.2</td>\n",
       "      <td>6.4</td>\n",
       "      <td>5.1</td>\n",
       "      <td>58.4</td>\n",
       "      <td>5.2</td>\n",
       "      <td>6.1</td>\n",
       "      <td>3.5</td>\n",
       "    </tr>\n",
       "  </tbody>\n",
       "</table>\n",
       "<p>3 rows × 54 columns</p>\n",
       "</div>"
      ],
      "text/plain": [
       "           Availability of latest technologies, 1-7 (best)  \\\n",
       "Australia                                              5.9   \n",
       "Austria                                                6.1   \n",
       "Belgium                                                6.2   \n",
       "\n",
       "           Business and innovation environment  Business usage  \\\n",
       "Australia                                  5.1             4.8   \n",
       "Austria                                    4.7             5.6   \n",
       "Belgium                                    5.1             5.2   \n",
       "\n",
       "           Business-to-business Internet use, 1-7 (best)  \\\n",
       "Australia                                            5.5   \n",
       "Austria                                              5.7   \n",
       "Belgium                                              5.7   \n",
       "\n",
       "           Business-to-consumer Internet use, 1-7 (best)  \\\n",
       "Australia                                            5.5   \n",
       "Austria                                              5.4   \n",
       "Belgium                                              5.3   \n",
       "\n",
       "           Capacity for innovation, 1-7 (best)  Economic impacts  \\\n",
       "Australia                                  4.8               4.7   \n",
       "Austria                                    5.4               4.9   \n",
       "Belgium                                    5.3               4.9   \n",
       "\n",
       "           Effectiveness of law-making bodies, 1-7 (best)  \\\n",
       "Australia                                             4.8   \n",
       "Austria                                               4.2   \n",
       "Belgium                                               4.3   \n",
       "\n",
       "           Efficiency of legal system in challenging regs, 1-7 (best)  \\\n",
       "Australia                                                4.7            \n",
       "Austria                                                  4.7            \n",
       "Belgium                                                  4.7            \n",
       "\n",
       "           Efficiency of legal system in settling disputes, 1-7 (best)  \\\n",
       "Australia                                                4.9             \n",
       "Austria                                                  5.0             \n",
       "Belgium                                                  4.5             \n",
       "\n",
       "                             ...                     \\\n",
       "Australia                    ...                      \n",
       "Austria                      ...                      \n",
       "Belgium                      ...                      \n",
       "\n",
       "           Quality of management schools, 1-7 (best)  \\\n",
       "Australia                                        5.3   \n",
       "Austria                                          4.9   \n",
       "Belgium                                          6.0   \n",
       "\n",
       "           Quality of math & science education, 1-7 (best)  \\\n",
       "Australia                                              4.8   \n",
       "Austria                                                4.6   \n",
       "Belgium                                                6.0   \n",
       "\n",
       "           Readiness subindex  Secure Internet servers/million pop.  Skills  \\\n",
       "Australia                 6.2                                1348.6     6.0   \n",
       "Austria                   6.3                                1267.7     5.7   \n",
       "Belgium                   6.1                                 854.2     6.4   \n",
       "\n",
       "           Social impacts  Total tax rate, % profits  Usage subindex  \\\n",
       "Australia             5.7                       47.6             5.4   \n",
       "Austria               5.2                       51.7             5.4   \n",
       "Belgium               5.1                       58.4             5.2   \n",
       "\n",
       "           Use of virtual social networks, 1-7 (best)  \\\n",
       "Australia                                         6.0   \n",
       "Austria                                           5.8   \n",
       "Belgium                                           6.1   \n",
       "\n",
       "           Venture capital availability, 1-7 (best)  \n",
       "Australia                                       3.1  \n",
       "Austria                                         2.9  \n",
       "Belgium                                         3.5  \n",
       "\n",
       "[3 rows x 54 columns]"
      ]
     },
     "execution_count": 95,
     "metadata": {},
     "output_type": "execute_result"
    }
   ],
   "source": [
    "gitr_featured.dropna(axis=1,inplace=True)\n",
    "gitr_featured.head(3)"
   ]
  },
  {
   "cell_type": "markdown",
   "metadata": {},
   "source": [
    "Now to see the relationship between these countries based on the previous features we proceed with a correlation as a way to measure their similarities"
   ]
  },
  {
   "cell_type": "code",
   "execution_count": 94,
   "metadata": {
    "collapsed": false
   },
   "outputs": [
    {
     "data": {
      "text/html": [
       "<div>\n",
       "<table border=\"1\" class=\"dataframe\">\n",
       "  <thead>\n",
       "    <tr style=\"text-align: right;\">\n",
       "      <th></th>\n",
       "      <th>Australia</th>\n",
       "      <th>Austria</th>\n",
       "      <th>Belgium</th>\n",
       "      <th>Canada</th>\n",
       "      <th>Cyprus</th>\n",
       "      <th>Czech Republic</th>\n",
       "      <th>Denmark</th>\n",
       "      <th>Estonia</th>\n",
       "      <th>Finland</th>\n",
       "      <th>France</th>\n",
       "      <th>...</th>\n",
       "      <th>Nigeria</th>\n",
       "      <th>Rwanda</th>\n",
       "      <th>Senegal</th>\n",
       "      <th>Seychelles</th>\n",
       "      <th>South Africa</th>\n",
       "      <th>Swaziland</th>\n",
       "      <th>Tanzania</th>\n",
       "      <th>Uganda</th>\n",
       "      <th>Zambia</th>\n",
       "      <th>Zimbabwe</th>\n",
       "    </tr>\n",
       "  </thead>\n",
       "  <tbody>\n",
       "    <tr>\n",
       "      <th>Australia</th>\n",
       "      <td>1.000000</td>\n",
       "      <td>0.999051</td>\n",
       "      <td>0.999036</td>\n",
       "      <td>0.998181</td>\n",
       "      <td>0.969107</td>\n",
       "      <td>0.998389</td>\n",
       "      <td>0.978675</td>\n",
       "      <td>0.999417</td>\n",
       "      <td>0.999850</td>\n",
       "      <td>0.998703</td>\n",
       "      <td>...</td>\n",
       "      <td>0.311444</td>\n",
       "      <td>0.107942</td>\n",
       "      <td>0.336468</td>\n",
       "      <td>0.976881</td>\n",
       "      <td>0.990290</td>\n",
       "      <td>0.347628</td>\n",
       "      <td>0.211794</td>\n",
       "      <td>0.172799</td>\n",
       "      <td>0.827180</td>\n",
       "      <td>0.839193</td>\n",
       "    </tr>\n",
       "    <tr>\n",
       "      <th>Austria</th>\n",
       "      <td>0.999051</td>\n",
       "      <td>1.000000</td>\n",
       "      <td>0.998264</td>\n",
       "      <td>0.994747</td>\n",
       "      <td>0.973076</td>\n",
       "      <td>0.996397</td>\n",
       "      <td>0.986235</td>\n",
       "      <td>0.997240</td>\n",
       "      <td>0.999249</td>\n",
       "      <td>0.996108</td>\n",
       "      <td>...</td>\n",
       "      <td>0.323523</td>\n",
       "      <td>0.122125</td>\n",
       "      <td>0.348182</td>\n",
       "      <td>0.979360</td>\n",
       "      <td>0.986749</td>\n",
       "      <td>0.359351</td>\n",
       "      <td>0.224660</td>\n",
       "      <td>0.185864</td>\n",
       "      <td>0.830226</td>\n",
       "      <td>0.841962</td>\n",
       "    </tr>\n",
       "    <tr>\n",
       "      <th>Belgium</th>\n",
       "      <td>0.999036</td>\n",
       "      <td>0.998264</td>\n",
       "      <td>1.000000</td>\n",
       "      <td>0.997659</td>\n",
       "      <td>0.975854</td>\n",
       "      <td>0.999255</td>\n",
       "      <td>0.977800</td>\n",
       "      <td>0.998858</td>\n",
       "      <td>0.998776</td>\n",
       "      <td>0.999050</td>\n",
       "      <td>...</td>\n",
       "      <td>0.341094</td>\n",
       "      <td>0.138935</td>\n",
       "      <td>0.366025</td>\n",
       "      <td>0.982619</td>\n",
       "      <td>0.993838</td>\n",
       "      <td>0.376880</td>\n",
       "      <td>0.242443</td>\n",
       "      <td>0.203543</td>\n",
       "      <td>0.844511</td>\n",
       "      <td>0.855208</td>\n",
       "    </tr>\n",
       "  </tbody>\n",
       "</table>\n",
       "<p>3 rows × 139 columns</p>\n",
       "</div>"
      ],
      "text/plain": [
       "           Australia   Austria   Belgium    Canada    Cyprus  Czech Republic  \\\n",
       "Australia   1.000000  0.999051  0.999036  0.998181  0.969107        0.998389   \n",
       "Austria     0.999051  1.000000  0.998264  0.994747  0.973076        0.996397   \n",
       "Belgium     0.999036  0.998264  1.000000  0.997659  0.975854        0.999255   \n",
       "\n",
       "            Denmark   Estonia   Finland    France    ...      Nigeria  \\\n",
       "Australia  0.978675  0.999417  0.999850  0.998703    ...     0.311444   \n",
       "Austria    0.986235  0.997240  0.999249  0.996108    ...     0.323523   \n",
       "Belgium    0.977800  0.998858  0.998776  0.999050    ...     0.341094   \n",
       "\n",
       "             Rwanda   Senegal  Seychelles  South Africa  Swaziland  Tanzania  \\\n",
       "Australia  0.107942  0.336468    0.976881      0.990290   0.347628  0.211794   \n",
       "Austria    0.122125  0.348182    0.979360      0.986749   0.359351  0.224660   \n",
       "Belgium    0.138935  0.366025    0.982619      0.993838   0.376880  0.242443   \n",
       "\n",
       "             Uganda    Zambia  Zimbabwe  \n",
       "Australia  0.172799  0.827180  0.839193  \n",
       "Austria    0.185864  0.830226  0.841962  \n",
       "Belgium    0.203543  0.844511  0.855208  \n",
       "\n",
       "[3 rows x 139 columns]"
      ]
     },
     "execution_count": 94,
     "metadata": {},
     "output_type": "execute_result"
    }
   ],
   "source": [
    "gitr_featured_cor=gitr_featured.transpose().corr()\n",
    "gitr_featured_cor.head(3)"
   ]
  },
  {
   "cell_type": "markdown",
   "metadata": {},
   "source": [
    "We must consider that correlations are also negative. Thus, we need to normalize them from zero to one, in order to use the results in VOS Viewer network. This is because the network file can't have negative values"
   ]
  },
  {
   "cell_type": "code",
   "execution_count": 93,
   "metadata": {
    "collapsed": false
   },
   "outputs": [
    {
     "data": {
      "text/html": [
       "<div>\n",
       "<table border=\"1\" class=\"dataframe\">\n",
       "  <thead>\n",
       "    <tr style=\"text-align: right;\">\n",
       "      <th></th>\n",
       "      <th>Australia</th>\n",
       "      <th>Austria</th>\n",
       "      <th>Belgium</th>\n",
       "      <th>Canada</th>\n",
       "      <th>Cyprus</th>\n",
       "      <th>Czech Republic</th>\n",
       "      <th>Denmark</th>\n",
       "      <th>Estonia</th>\n",
       "      <th>Finland</th>\n",
       "      <th>France</th>\n",
       "      <th>...</th>\n",
       "      <th>Nigeria</th>\n",
       "      <th>Rwanda</th>\n",
       "      <th>Senegal</th>\n",
       "      <th>Seychelles</th>\n",
       "      <th>South Africa</th>\n",
       "      <th>Swaziland</th>\n",
       "      <th>Tanzania</th>\n",
       "      <th>Uganda</th>\n",
       "      <th>Zambia</th>\n",
       "      <th>Zimbabwe</th>\n",
       "    </tr>\n",
       "  </thead>\n",
       "  <tbody>\n",
       "    <tr>\n",
       "      <th>Australia</th>\n",
       "      <td>1.000000</td>\n",
       "      <td>0.999011</td>\n",
       "      <td>0.998977</td>\n",
       "      <td>0.998139</td>\n",
       "      <td>0.957836</td>\n",
       "      <td>0.998276</td>\n",
       "      <td>0.977652</td>\n",
       "      <td>0.999397</td>\n",
       "      <td>0.999847</td>\n",
       "      <td>0.998654</td>\n",
       "      <td>...</td>\n",
       "      <td>0.217694</td>\n",
       "      <td>0.057786</td>\n",
       "      <td>0.230165</td>\n",
       "      <td>0.969689</td>\n",
       "      <td>0.988994</td>\n",
       "      <td>0.242101</td>\n",
       "      <td>0.137830</td>\n",
       "      <td>0.115076</td>\n",
       "      <td>0.740485</td>\n",
       "      <td>0.758195</td>\n",
       "    </tr>\n",
       "    <tr>\n",
       "      <th>Austria</th>\n",
       "      <td>0.999025</td>\n",
       "      <td>1.000000</td>\n",
       "      <td>0.998158</td>\n",
       "      <td>0.994626</td>\n",
       "      <td>0.963252</td>\n",
       "      <td>0.996145</td>\n",
       "      <td>0.985575</td>\n",
       "      <td>0.997146</td>\n",
       "      <td>0.999236</td>\n",
       "      <td>0.995961</td>\n",
       "      <td>...</td>\n",
       "      <td>0.231418</td>\n",
       "      <td>0.072768</td>\n",
       "      <td>0.243755</td>\n",
       "      <td>0.972939</td>\n",
       "      <td>0.984980</td>\n",
       "      <td>0.255719</td>\n",
       "      <td>0.151903</td>\n",
       "      <td>0.129053</td>\n",
       "      <td>0.745059</td>\n",
       "      <td>0.762360</td>\n",
       "    </tr>\n",
       "    <tr>\n",
       "      <th>Belgium</th>\n",
       "      <td>0.999010</td>\n",
       "      <td>0.998191</td>\n",
       "      <td>1.000000</td>\n",
       "      <td>0.997605</td>\n",
       "      <td>0.967044</td>\n",
       "      <td>0.999203</td>\n",
       "      <td>0.976735</td>\n",
       "      <td>0.998819</td>\n",
       "      <td>0.998754</td>\n",
       "      <td>0.999014</td>\n",
       "      <td>...</td>\n",
       "      <td>0.251381</td>\n",
       "      <td>0.090522</td>\n",
       "      <td>0.264457</td>\n",
       "      <td>0.977212</td>\n",
       "      <td>0.993016</td>\n",
       "      <td>0.276084</td>\n",
       "      <td>0.171355</td>\n",
       "      <td>0.147966</td>\n",
       "      <td>0.766510</td>\n",
       "      <td>0.782278</td>\n",
       "    </tr>\n",
       "  </tbody>\n",
       "</table>\n",
       "<p>3 rows × 139 columns</p>\n",
       "</div>"
      ],
      "text/plain": [
       "           Australia   Austria   Belgium    Canada    Cyprus  Czech Republic  \\\n",
       "Australia   1.000000  0.999011  0.998977  0.998139  0.957836        0.998276   \n",
       "Austria     0.999025  1.000000  0.998158  0.994626  0.963252        0.996145   \n",
       "Belgium     0.999010  0.998191  1.000000  0.997605  0.967044        0.999203   \n",
       "\n",
       "            Denmark   Estonia   Finland    France    ...      Nigeria  \\\n",
       "Australia  0.977652  0.999397  0.999847  0.998654    ...     0.217694   \n",
       "Austria    0.985575  0.997146  0.999236  0.995961    ...     0.231418   \n",
       "Belgium    0.976735  0.998819  0.998754  0.999014    ...     0.251381   \n",
       "\n",
       "             Rwanda   Senegal  Seychelles  South Africa  Swaziland  Tanzania  \\\n",
       "Australia  0.057786  0.230165    0.969689      0.988994   0.242101  0.137830   \n",
       "Austria    0.072768  0.243755    0.972939      0.984980   0.255719  0.151903   \n",
       "Belgium    0.090522  0.264457    0.977212      0.993016   0.276084  0.171355   \n",
       "\n",
       "             Uganda    Zambia  Zimbabwe  \n",
       "Australia  0.115076  0.740485  0.758195  \n",
       "Austria    0.129053  0.745059  0.762360  \n",
       "Belgium    0.147966  0.766510  0.782278  \n",
       "\n",
       "[3 rows x 139 columns]"
      ]
     },
     "execution_count": 93,
     "metadata": {},
     "output_type": "execute_result"
    }
   ],
   "source": [
    "gitr_featured_cor=(gitr_featured_cor-gitr_featured_cor.min())/(gitr_featured_cor.max()-gitr_featured_cor.min())\n",
    "gitr_featured_cor.head(3)"
   ]
  },
  {
   "cell_type": "markdown",
   "metadata": {},
   "source": [
    "Finally, we proceed to save the results. But, we have to consider that a VOS network file, starts without a header. ID and values to the right, no column headers. Therefore, we proceed to omit it."
   ]
  },
  {
   "cell_type": "code",
   "execution_count": 90,
   "metadata": {
    "collapsed": true
   },
   "outputs": [],
   "source": [
    "gitr_featured_cor.to_csv(\"gitr_featured_cor.csv\",header=False)"
   ]
  },
  {
   "cell_type": "markdown",
   "metadata": {},
   "source": [
    "# OPTIONAL: Transform the features from many to 2. And test the results"
   ]
  },
  {
   "cell_type": "code",
   "execution_count": 25,
   "metadata": {
    "collapsed": false
   },
   "outputs": [],
   "source": [
    "pca = pcad.PCA(n_components=2)\n",
    "pca.fit(gitr_featured)\n",
    "X = pca.transform(gitr_featured)"
   ]
  },
  {
   "cell_type": "code",
   "execution_count": 79,
   "metadata": {
    "collapsed": false
   },
   "outputs": [],
   "source": [
    "Xn=(X-X.min(axis=0))/(X.max(axis=0)-X.min(axis=0))"
   ]
  },
  {
   "cell_type": "code",
   "execution_count": 80,
   "metadata": {
    "collapsed": false
   },
   "outputs": [
    {
     "data": {
      "image/png": "[encoded data removed]",
      "text/plain": [
       "<matplotlib.figure.Figure at 0x7f8138067dd8>"
      ]
     },
     "metadata": {},
     "output_type": "display_data"
    }
   ],
   "source": [
    "fig = plt.figure()\n",
    "plt.scatter(Xn[:,0],Xn[:,1])\n",
    "plt.show()"
   ]
  },
  {
   "cell_type": "code",
   "execution_count": 92,
   "metadata": {
    "collapsed": false
   },
   "outputs": [
    {
     "data": {
      "text/html": [
       "<div>\n",
       "<table border=\"1\" class=\"dataframe\">\n",
       "  <thead>\n",
       "    <tr style=\"text-align: right;\">\n",
       "      <th></th>\n",
       "      <th>F1</th>\n",
       "      <th>F2</th>\n",
       "    </tr>\n",
       "  </thead>\n",
       "  <tbody>\n",
       "    <tr>\n",
       "      <th>Australia</th>\n",
       "      <td>0.193104</td>\n",
       "      <td>0.123688</td>\n",
       "    </tr>\n",
       "    <tr>\n",
       "      <th>Austria</th>\n",
       "      <td>0.136844</td>\n",
       "      <td>0.135847</td>\n",
       "    </tr>\n",
       "    <tr>\n",
       "      <th>Belgium</th>\n",
       "      <td>0.131579</td>\n",
       "      <td>0.130669</td>\n",
       "    </tr>\n",
       "  </tbody>\n",
       "</table>\n",
       "</div>"
      ],
      "text/plain": [
       "                 F1        F2\n",
       "Australia  0.193104  0.123688\n",
       "Austria    0.136844  0.135847\n",
       "Belgium    0.131579  0.130669"
      ]
     },
     "execution_count": 92,
     "metadata": {},
     "output_type": "execute_result"
    }
   ],
   "source": [
    "pd.DataFrame(Xn).set_index(gitr_featured.index).rename(columns={0:'F1',1:'F2'}).head(3)"
   ]
  },
  {
   "cell_type": "code",
   "execution_count": null,
   "metadata": {
    "collapsed": true
   },
   "outputs": [],
   "source": []
  }
 ],
 "metadata": {
  "kernelspec": {
   "display_name": "Python [conda env:py35]",
   "language": "python",
   "name": "conda-env-py35-py"
  },
  "language_info": {
   "codemirror_mode": {
    "name": "ipython",
    "version": 3
   },
   "file_extension": ".py",
   "mimetype": "text/x-python",
   "name": "python",
   "nbconvert_exporter": "python",
   "pygments_lexer": "ipython3",
   "version": "3.5.2"
  }
 },
 "nbformat": 4,
 "nbformat_minor": 1
}
